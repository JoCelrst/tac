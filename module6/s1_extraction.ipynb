{
 "cells": [
  {
   "cell_type": "markdown",
   "metadata": {},
   "source": [
    "# Extraire le texte dans des documents \"riches\""
   ]
  },
  {
   "cell_type": "markdown",
   "metadata": {},
   "source": [
    "## Imports"
   ]
  },
  {
   "cell_type": "code",
   "execution_count": 1,
   "metadata": {},
   "outputs": [],
   "source": [
    "import os\n",
    "import textract\n",
    "import openpyxl"
   ]
  },
  {
   "cell_type": "markdown",
   "metadata": {},
   "source": [
    "## Lister les fichiers dans le répertoire `dummy`"
   ]
  },
  {
   "cell_type": "code",
   "execution_count": 2,
   "metadata": {},
   "outputs": [
    {
     "name": "stdout",
     "output_type": "stream",
     "text": [
      "['test.docx', 'test.doc', 'test.pptx', 'test.mp3', 'test.jpg', 'test.png', 'test.pdf', 'test.txt', 'test.rtf', 'test.odt', 'test.xls']\n"
     ]
    }
   ],
   "source": [
    "path = 'dummy/'\n",
    "files = os.listdir(path)\n",
    "print(files)"
   ]
  },
  {
   "cell_type": "markdown",
   "metadata": {},
   "source": [
    "## Extraire le texte de chacun des fichiers à l'aide de la librairie `textract`\n"
   ]
  },
  {
   "cell_type": "code",
   "execution_count": 3,
   "metadata": {},
   "outputs": [
    {
     "name": "stdout",
     "output_type": "stream",
     "text": [
      "dummy/test.doc The command `antiword dummy/test.doc` failed because the executable\n",
      "`antiword` is not installed on your system. Please make\n",
      "sure the appropriate dependencies are installed before using\n",
      "textract:\n",
      "\n",
      "    http://textract.readthedocs.org/en/latest/installation.html\n",
      "\n",
      "Ceci est un document docx.\n",
      "dummy/test.jpg The command `tesseract dummy/test.jpg stdout` failed because the executable\n",
      "`tesseract` is not installed on your system. Please make\n",
      "sure the appropriate dependencies are installed before using\n",
      "textract:\n",
      "\n",
      "    http://textract.readthedocs.org/en/latest/installation.html\n",
      "\n",
      "dummy/test.mp3 The command `sox -G -c 1 dummy/test.mp3 /var/folders/m8/68vm86z57qlf29kmhzdzr6_w0000gn/T/tmp0_si5lwl.wav` failed because the executable\n",
      "`sox` is not installed on your system. Please make\n",
      "sure the appropriate dependencies are installed before using\n",
      "textract:\n",
      "\n",
      "    http://textract.readthedocs.org/en/latest/installation.html\n",
      "\n",
      "Ceci est un document odt.\n",
      "dummy/test.pdf The command `pdf2txt.py dummy/test.pdf` failed because the executable\n",
      "`pdf2txt.py` is not installed on your system. Please make\n",
      "sure the appropriate dependencies are installed before using\n",
      "textract:\n",
      "\n",
      "    http://textract.readthedocs.org/en/latest/installation.html\n",
      "\n",
      "dummy/test.png The command `tesseract dummy/test.png stdout` failed because the executable\n",
      "`tesseract` is not installed on your system. Please make\n",
      "sure the appropriate dependencies are installed before using\n",
      "textract:\n",
      "\n",
      "    http://textract.readthedocs.org/en/latest/installation.html\n",
      "\n",
      "Ceci est un document pptx.\n",
      "dummy/test.rtf The command `unrtf --text dummy/test.rtf` failed because the executable\n",
      "`unrtf` is not installed on your system. Please make\n",
      "sure the appropriate dependencies are installed before using\n",
      "textract:\n",
      "\n",
      "    http://textract.readthedocs.org/en/latest/installation.html\n",
      "\n",
      "Ceci est un document txt.\n",
      "Ceci est un document xlsx.\n"
     ]
    }
   ],
   "source": [
    "# extraire le contenu textuel de ces fichiers\n",
    "for f in sorted(files):\n",
    "    try:\n",
    "        text = textract.process(os.path.join(path, f))\n",
    "        print(text.decode('utf-8').strip())\n",
    "    except Exception as e:\n",
    "        print(os.path.join(path, f), e)"
   ]
  }
 ],
 "metadata": {
  "kernelspec": {
   "display_name": "Python 3.9.5 ('tac_venv': venv)",
   "language": "python",
   "name": "python3"
  },
  "language_info": {
   "codemirror_mode": {
    "name": "ipython",
    "version": 3
   },
   "file_extension": ".py",
   "mimetype": "text/x-python",
   "name": "python",
   "nbconvert_exporter": "python",
   "pygments_lexer": "ipython3",
   "version": "3.9.5"
  },
  "vscode": {
   "interpreter": {
    "hash": "8c0c492aeedeccfd924494424708794640a39d1369b4614088c1dc4244793055"
   }
  }
 },
 "nbformat": 4,
 "nbformat_minor": 4
}
