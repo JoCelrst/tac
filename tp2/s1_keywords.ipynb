{
 "cells": [
  {
   "cell_type": "markdown",
   "metadata": {},
   "source": [
    "# Extraction de Keywords"
   ]
  },
  {
   "cell_type": "markdown",
   "metadata": {},
   "source": [
    "## Imports"
   ]
  },
  {
   "cell_type": "code",
   "execution_count": 1,
   "metadata": {},
   "outputs": [],
   "source": [
    "import os\n",
    "import yake"
   ]
  },
  {
   "cell_type": "markdown",
   "metadata": {},
   "source": [
    "## Extraire les mots clés d'un document avec Yake"
   ]
  },
  {
   "cell_type": "markdown",
   "metadata": {},
   "source": [
    "https://github.com/LIAAD/yake"
   ]
  },
  {
   "cell_type": "code",
   "execution_count": 2,
   "metadata": {},
   "outputs": [
    {
     "data": {
      "text/plain": [
       "<yake.yake.KeywordExtractor at 0x7f94cf45e070>"
      ]
     },
     "execution_count": 2,
     "metadata": {},
     "output_type": "execute_result"
    }
   ],
   "source": [
    "# Instantier l'extracteur de mots clés\n",
    "kw_extractor = yake.KeywordExtractor(lan=\"fr\", top=50)\n",
    "kw_extractor"
   ]
  },
  {
   "cell_type": "code",
   "execution_count": 3,
   "metadata": {},
   "outputs": [],
   "source": [
    "# Lister les Fichiers\n",
    "data_path = \"../data/tmp/\"\n",
    "files = os.listdir(data_path)"
   ]
  },
  {
   "cell_type": "code",
   "execution_count": 4,
   "metadata": {},
   "outputs": [
    {
     "data": {
      "text/plain": [
       "18"
      ]
     },
     "execution_count": 4,
     "metadata": {},
     "output_type": "execute_result"
    }
   ],
   "source": [
    "# Imprimer le nombre de fichiers identifiés\n",
    "len(files)"
   ]
  },
  {
   "cell_type": "code",
   "execution_count": 5,
   "metadata": {},
   "outputs": [
    {
     "data": {
      "text/plain": [
       "['1912.txt',\n",
       " '1950_clean.txt',\n",
       " '1912_clean.txt',\n",
       " '1928.txt',\n",
       " '1961.png',\n",
       " '1902.txt',\n",
       " '1945_clean.txt',\n",
       " '1912.png',\n",
       " '1928.png',\n",
       " '1902.png',\n",
       " '1961.txt',\n",
       " '1950.txt',\n",
       " '1928_clean.txt',\n",
       " '1945.txt',\n",
       " '1961_clean.txt']"
      ]
     },
     "execution_count": 5,
     "metadata": {},
     "output_type": "execute_result"
    }
   ],
   "source": [
    "# Les dix premiers fichiers\n",
    "files[:15]"
   ]
  },
  {
   "cell_type": "code",
   "execution_count": 14,
   "metadata": {},
   "outputs": [
    {
     "data": {
      "text/plain": [
       "['1902.txt']"
      ]
     },
     "execution_count": 14,
     "metadata": {},
     "output_type": "execute_result"
    }
   ],
   "source": [
    "# Choisir un fichier\n",
    "this_file = files[5:6]\n",
    "this_file"
   ]
  },
  {
   "cell_type": "code",
   "execution_count": 22,
   "metadata": {},
   "outputs": [
    {
     "data": {
      "text/plain": [
       "'FOIS RENTRÉS QUERELLÉ ENVENIMA JFT COUP MARI SAISISSANT COUTEAU IXNBLE CUISINE PLONGEA LAME IANS POITRINE FEMME MALHEUREUSE AFFAISSA MASSE BLESSURE MORTELLE ÉTAT DÉSESPÉRÉ TRANSPORTÉE HÔPITAL FORCES VITALES PILULES CHOAIN AFIN OFFRIR DOS ÉTRENNES CLIENTÈLE MAISDNS VANDER NIEPEN PONT CARPE CHAUSSSÉE LTXELLEO VERNIRONT SAMEDI JANVIER JOUR SEULEMENT RAGCÙT CENT KILO ÉPAULES LIASSE ROTES GIGOT COUPÉ COURT DISE CONCERTS ARTISTIQUES CALORIE COMMERCE VENDREDI MARTAPOURA SAMEDI PIA COROZZI LIAMNCLIOMARTAPOIIRA DCMEIGATI ENTRÉE LUICC FRILEUX PERSONNES CRAIGNENT FROID LÉGION APPRENDRONT ELLES PLAISIR MÉDECIN VIENNOIS DOCTEUR FLCRCK VIENT DÉCOUVRIR REMÈDE HÉROÏQUE APPELLE EMPHATIQUEMENT FRILOSITÉ MOYENS PRÉCONISE TIIIIRIS ANLS FOND VÉRITÉ POURQUOI TRADUISONS USAGE LECTEURS PASSAGE SAILLANT COMMUNICATION FRILOSITÉ HABITUDE RIEN HABITUDE COMBATTRE VOICI COMMENT LIEU VÊTIR LOURDEMENT ADOPTER PRÉFÉRENCE VÊTEMENTS LÉGERS MANGER VIANDES GRILLÉES LÉGUMES ASSAISONNÉS BEAUCOUP BEURRE PRENDRE CHAQUE MATIN '"
      ]
     },
     "execution_count": 22,
     "metadata": {},
     "output_type": "execute_result"
    }
   ],
   "source": [
    "# Récupérer le texte du fichier\n",
    "text = open(os.path.join(data_path, '1902_clean.txt'), 'r', encoding='utf-8').read()\n",
    "text[:1000]"
   ]
  },
  {
   "cell_type": "code",
   "execution_count": null,
   "metadata": {},
   "outputs": [],
   "source": []
  },
  {
   "cell_type": "code",
   "execution_count": 23,
   "metadata": {},
   "outputs": [
    {
     "data": {
      "text/plain": [
       "[('VENTES NOTAIRES BRUXELLES', 6.730634855279054e-11),\n",
       " ('SALLE VENTES NOTAIRES', 9.588254327217646e-11),\n",
       " ('BELLE MAISON RENTIER', 1.5970485045140673e-10),\n",
       " ('LOUER BELLE MAISON', 2.5538792299734196e-10),\n",
       " ('FILLE SACH CULS', 2.775520461488185e-10),\n",
       " ('SACH CULS BOURG', 3.332860911702279e-10),\n",
       " ('NOTAIRES BRUXELLES BRUXELLES', 3.7956432342085386e-10),\n",
       " ('LOT MAISON COMMERCE', 4.511421405072809e-10),\n",
       " ('BRUXELLES MAISON COMMERCE', 4.6136024344970746e-10),\n",
       " ('LOUER JOLIE MAISON', 4.696479548128027e-10),\n",
       " ('SERV SACH CULS', 4.89552679213354e-10),\n",
       " ('MAISON RENTIER RUO', 5.426950183234674e-10),\n",
       " ('MAISON RENTIER ÉTAGES', 5.539418746491078e-10),\n",
       " ('HEURES LOUER MAISON', 5.635507241132973e-10),\n",
       " ('BRUXELLES VENTE PUBLIQUE', 5.64430020491035e-10),\n",
       " ('MAISON COMMERCE RUO', 5.658884062921208e-10),\n",
       " ('LUNDIS MERCREDIS VENDREDIS', 5.775250350897154e-10),\n",
       " ('NOTAIRES BRUXELLES RUO', 5.819503186957575e-10),\n",
       " ('NOTAIRES BRUXELLES MARDI', 5.963868636172584e-10),\n",
       " ('MAISON RENTIER JARDIN', 6.619707264984603e-10),\n",
       " ('BON CULS BOURG', 7.083680250183466e-10),\n",
       " ('MAISON COMMERCE ÉTAGES', 7.810939558454315e-10),\n",
       " ('VENTES NOTAIRES RUO', 7.842782937223883e-10),\n",
       " ('ACHAT BON PRIX', 7.941425914702367e-10),\n",
       " ('VENTES NOTAIRES FOSSÉ', 8.082691630501132e-10),\n",
       " ('NOTAIRES BRUXELLES FOSSÉ', 8.396515490002604e-10),\n",
       " ('BRUXELLES LOT MAISON', 8.783983072963672e-10),\n",
       " ('MERCREDIS VENDREDIS HEURES', 8.97406294432701e-10),\n",
       " ('VENDRE LOUER BELLE', 8.999197041335332e-10),\n",
       " ('HEURES MATIN HEURES', 9.088966692876638e-10),\n",
       " ('NOTAIRES BRUXELLES MAISON', 9.145573597570492e-10),\n",
       " ('LOUER BEL APPART', 9.262117769954904e-10),\n",
       " ('DEMANDE BON OUVRIER', 9.771563295647625e-10),\n",
       " ('BRUXELLES ORDRE JOUR', 1.0101966696885704e-09),\n",
       " ('BON DEMI OUVRIER', 1.055120205367965e-09),\n",
       " ('JOLIE MAISON RENTIER', 1.0866582584614432e-09),\n",
       " ('LOT MAISON RENTIER', 1.130192558527968e-09),\n",
       " ('LOUER PRIX MOD', 1.1428464687731667e-09),\n",
       " ('NOTAIRE BRUXELLES ROYALE', 1.1582985453998428e-09),\n",
       " ('SERV CON CULS', 1.16603889658504e-09),\n",
       " ('BONNE MAISON COMMERCE', 1.1827604913766528e-09),\n",
       " ('CHAMB GAR LOUER', 1.1878070341790507e-09),\n",
       " ('LOUER QUART GAR', 1.1909225119976483e-09),\n",
       " ('FILLE ALD MÉN', 1.2204310674483067e-09),\n",
       " ('LUNDI MARS HEURES', 1.2334542056470603e-09),\n",
       " ('LUNDI AVRIL HEURES', 1.2381686473583626e-09),\n",
       " ('MARS SALLE VENTES', 1.2476952198123172e-09),\n",
       " ('LOUER BEL APP', 1.2563137576133465e-09),\n",
       " ('BRUXELLES SALLE VENTES', 1.263549211889582e-09),\n",
       " ('BRUXELLES PLACE PETIT', 1.2787939217355533e-09)]"
      ]
     },
     "execution_count": 23,
     "metadata": {},
     "output_type": "execute_result"
    }
   ],
   "source": [
    "# Extraire les mots clés de ce texte\n",
    "keywords = kw_extractor.extract_keywords(text)\n",
    "keywords"
   ]
  },
  {
   "cell_type": "code",
   "execution_count": 24,
   "metadata": {},
   "outputs": [
    {
     "data": {
      "text/plain": [
       "[]"
      ]
     },
     "execution_count": 24,
     "metadata": {},
     "output_type": "execute_result"
    }
   ],
   "source": [
    "# Ne garder que les bigrammes\n",
    "kept = []\n",
    "for kw, score in keywords:\n",
    "    words = kw.split()\n",
    "    if len(words) == 2:\n",
    "        kept.append(kw)\n",
    "kept"
   ]
  }
 ],
 "metadata": {
  "kernelspec": {
   "display_name": "Python 3.9.5 64-bit",
   "language": "python",
   "name": "python3"
  },
  "language_info": {
   "codemirror_mode": {
    "name": "ipython",
    "version": 3
   },
   "file_extension": ".py",
   "mimetype": "text/x-python",
   "name": "python",
   "nbconvert_exporter": "python",
   "pygments_lexer": "ipython3",
   "version": "3.9.5"
  },
  "vscode": {
   "interpreter": {
    "hash": "aee8b7b246df8f9039afb4144a1f6fd8d2ca17a180786b69acc140d282b71a49"
   }
  }
 },
 "nbformat": 4,
 "nbformat_minor": 4
}
