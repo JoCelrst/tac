{
 "cells": [
  {
   "cell_type": "markdown",
   "metadata": {},
   "source": [
    "# Extraction de Keywords"
   ]
  },
  {
   "cell_type": "markdown",
   "metadata": {},
   "source": [
    "## Imports"
   ]
  },
  {
   "cell_type": "code",
   "execution_count": 11,
   "metadata": {},
   "outputs": [],
   "source": [
    "import os\n",
    "import yake"
   ]
  },
  {
   "cell_type": "markdown",
   "metadata": {},
   "source": [
    "## Extraire les mots clés d'un document avec Yake"
   ]
  },
  {
   "cell_type": "markdown",
   "metadata": {},
   "source": [
    "https://github.com/LIAAD/yake"
   ]
  },
  {
   "cell_type": "code",
   "execution_count": 30,
   "metadata": {},
   "outputs": [
    {
     "data": {
      "text/plain": [
       "<yake.yake.KeywordExtractor at 0x7ff70977e130>"
      ]
     },
     "execution_count": 30,
     "metadata": {},
     "output_type": "execute_result"
    }
   ],
   "source": [
    "# Instantier l'extracteur de mots clés\n",
    "kw_extractor = yake.KeywordExtractor(lan=\"fr\", top=50)\n",
    "kw_extractor"
   ]
  },
  {
   "cell_type": "code",
   "execution_count": 31,
   "metadata": {},
   "outputs": [],
   "source": [
    "# Lister les Fichiers\n",
    "data_path = \"../data/tmp/\"\n",
    "files = os.listdir(data_path)"
   ]
  },
  {
   "cell_type": "code",
   "execution_count": 32,
   "metadata": {},
   "outputs": [
    {
     "data": {
      "text/plain": [
       "15"
      ]
     },
     "execution_count": 32,
     "metadata": {},
     "output_type": "execute_result"
    }
   ],
   "source": [
    "# Imprimer le nombre de fichiers identifiés\n",
    "len(files)"
   ]
  },
  {
   "cell_type": "code",
   "execution_count": 33,
   "metadata": {},
   "outputs": [
    {
     "data": {
      "text/plain": [
       "['1950_clean.txt',\n",
       " '1928.txt',\n",
       " '1961.png',\n",
       " '1902.txt',\n",
       " '1945_clean.txt',\n",
       " '1928.png',\n",
       " '1902.png',\n",
       " '1961.txt',\n",
       " '1950.txt',\n",
       " '1928_clean.txt',\n",
       " '1945.txt',\n",
       " '1961_clean.txt',\n",
       " '1902_clean.txt',\n",
       " '1945.png',\n",
       " '1950.png']"
      ]
     },
     "execution_count": 33,
     "metadata": {},
     "output_type": "execute_result"
    }
   ],
   "source": [
    "# Les dix premiers fichiers\n",
    "files[:15]"
   ]
  },
  {
   "cell_type": "code",
   "execution_count": 45,
   "metadata": {},
   "outputs": [
    {
     "data": {
      "text/plain": [
       "['1902.txt']"
      ]
     },
     "execution_count": 45,
     "metadata": {},
     "output_type": "execute_result"
    }
   ],
   "source": [
    "# Choisir un fichier\n",
    "this_file = files[3:4]\n",
    "this_file"
   ]
  },
  {
   "cell_type": "code",
   "execution_count": 46,
   "metadata": {},
   "outputs": [
    {
     "data": {
      "text/plain": [
       "'FOIS RENTRÉS QUERELLÉ ENVENIMA JFT COUP MARI SAISISSANT COUTEAU IXNBLE CUISINE PLONGEA LAME IANS POITRINE FEMME MALHEUREUSE AFFAISSA MASSE BLESSURE MORTELLE ÉTAT DÉSESPÉRÉ TRANSPORTÉE HÔPITAL FORCES VITALES PILULES CHOAIN AFIN OFFRIR DOS ÉTRENNES CLIENTÈLE MAISDNS VANDER NIEPEN PONT CARPE CHAUSSSÉE LTXELLEO VERNIRONT SAMEDI JANVIER JOUR SEULEMENT RAGCÙT CENT KILO ÉPAULES LIASSE ROTES GIGOT COUPÉ COURT DISE CONCERTS ARTISTIQUES CALORIE COMMERCE VENDREDI MARTAPOURA SAMEDI PIA COROZZI LIAMNCLIOMARTAPOIIRA DCMEIGATI ENTRÉE LUICC FRILEUX PERSONNES CRAIGNENT FROID LÉGION APPRENDRONT ELLES PLAISIR MÉDECIN VIENNOIS DOCTEUR FLCRCK VIENT DÉCOUVRIR REMÈDE HÉROÏQUE APPELLE EMPHATIQUEMENT FRILOSITÉ MOYENS PRÉCONISE TIIIIRIS ANLS FOND VÉRITÉ POURQUOI TRADUISONS USAGE LECTEURS PASSAGE SAILLANT COMMUNICATION FRILOSITÉ HABITUDE RIEN HABITUDE COMBATTRE VOICI COMMENT LIEU VÊTIR LOURDEMENT ADOPTER PRÉFÉRENCE VÊTEMENTS LÉGERS MANGER VIANDES GRILLÉES LÉGUMES ASSAISONNÉS BEAUCOUP BEURRE PRENDRE CHAQUE MATIN '"
      ]
     },
     "execution_count": 46,
     "metadata": {},
     "output_type": "execute_result"
    }
   ],
   "source": [
    "# Récupérer le texte du fichier\n",
    "text = open(os.path.join(data_path, '1902_clean.txt'), 'r', encoding='utf-8').read()\n",
    "text[:1000]"
   ]
  },
  {
   "cell_type": "code",
   "execution_count": 47,
   "metadata": {},
   "outputs": [
    {
     "data": {
      "text/plain": [
       "[('VENTES NOTAIRES BRUXELLES', 6.745795796271314e-11),\n",
       " ('SALLE VENTES NOTAIRES', 9.604854534298889e-11),\n",
       " ('BELLE MAISON RENTIER', 1.5975298496439985e-10),\n",
       " ('LOUER BELLE MAISON', 2.552637213420097e-10),\n",
       " ('FILLE SACH CULS', 2.7727313538766354e-10),\n",
       " ('SACH CULS BOURG', 3.329406730139793e-10),\n",
       " ('NOTAIRES BRUXELLES BRUXELLES', 3.806122985994085e-10),\n",
       " ('LOT MAISON COMMERCE', 4.5049544222219326e-10),\n",
       " ('BRUXELLES MAISON COMMERCE', 4.609359080582187e-10),\n",
       " ('LOUER JOLIE MAISON', 4.694169974829485e-10),\n",
       " ('SERV SACH CULS', 4.890515266490972e-10),\n",
       " ('MAISON RENTIER RUO', 5.428880595215363e-10),\n",
       " ('MAISON RENTIER ÉTAGES', 5.541053265440327e-10),\n",
       " ('HEURES LOUER MAISON', 5.632835734702056e-10),\n",
       " ('BRUXELLES VENTE PUBLIQUE', 5.641465431143601e-10),\n",
       " ('MAISON COMMERCE RUO', 5.651163541275729e-10),\n",
       " ('LUNDIS MERCREDIS VENDREDIS', 5.76920807911072e-10),\n",
       " ('NOTAIRES BRUXELLES RUO', 5.8329741078531e-10),\n",
       " ('NOTAIRES BRUXELLES MARDI', 5.977206396480937e-10),\n",
       " ('MAISON RENTIER JARDIN', 6.636944221455483e-10),\n",
       " ('BON CULS BOURG', 7.076861656655687e-10),\n",
       " ('MAISON COMMERCE ÉTAGES', 7.79981006437231e-10),\n",
       " ('VENTES NOTAIRES RUO', 7.856951295717331e-10),\n",
       " ('ACHAT BON PRIX', 7.934299988748521e-10),\n",
       " ('VENTES NOTAIRES FOSSÉ', 8.096904448278138e-10),\n",
       " ('NOTAIRES BRUXELLES FOSSÉ', 8.415547424184907e-10),\n",
       " ('BRUXELLES LOT MAISON', 8.775885095716334e-10),\n",
       " ('MERCREDIS VENDREDIS HEURES', 8.965011855826679e-10),\n",
       " ('VENDRE LOUER BELLE', 9.016900867614539e-10),\n",
       " ('HEURES MATIN HEURES', 9.080229379198704e-10),\n",
       " ('NOTAIRES BRUXELLES MAISON', 9.162344791429414e-10),\n",
       " ('LOUER BEL APPART', 9.261422120946865e-10),\n",
       " ('DEMANDE BON OUVRIER', 9.76269632194382e-10),\n",
       " ('BRUXELLES ORDRE JOUR', 1.0107643498617265e-09),\n",
       " ('BON DEMI OUVRIER', 1.0541274971408233e-09),\n",
       " ('JOLIE MAISON RENTIER', 1.0869798604415537e-09),\n",
       " ('LOT MAISON RENTIER', 1.1305162956954747e-09),\n",
       " ('LOUER PRIX MOD', 1.1428011155941162e-09),\n",
       " ('NOTAIRE BRUXELLES ROYALE', 1.1609103460388132e-09),\n",
       " ('SERV CON CULS', 1.164877988360213e-09),\n",
       " ('BONNE MAISON COMMERCE', 1.181096737587204e-09),\n",
       " ('CHAMB GAR LOUER', 1.1877099528489848e-09),\n",
       " ('LOUER QUART GAR', 1.190829341374012e-09),\n",
       " ('FILLE ALD MÉN', 1.2202095779366131e-09),\n",
       " ('LUNDI MARS HEURES', 1.2322197157740316e-09),\n",
       " ('LUNDI AVRIL HEURES', 1.2369203671560347e-09),\n",
       " ('MARS SALLE VENTES', 1.2464271363926754e-09),\n",
       " ('LOUER BEL APP', 1.2562252449061724e-09),\n",
       " ('BRUXELLES SALLE VENTES', 1.2629045562381601e-09),\n",
       " ('BRUXELLES PLACE PETIT', 1.2782419140746356e-09)]"
      ]
     },
     "execution_count": 47,
     "metadata": {},
     "output_type": "execute_result"
    }
   ],
   "source": [
    "# Extraire les mots clés de ce texte\n",
    "keywords = kw_extractor.extract_keywords(text)\n",
    "keywords"
   ]
  },
  {
   "cell_type": "code",
   "execution_count": 42,
   "metadata": {},
   "outputs": [
    {
     "data": {
      "text/plain": [
       "[]"
      ]
     },
     "execution_count": 42,
     "metadata": {},
     "output_type": "execute_result"
    }
   ],
   "source": [
    "# Ne garder que les bigrammes\n",
    "kept = []\n",
    "for kw, score in keywords:\n",
    "    words = kw.split()\n",
    "    if len(words) == 2:\n",
    "        kept.append(kw)\n",
    "kept"
   ]
  }
 ],
 "metadata": {
  "kernelspec": {
   "display_name": "Python 3.9.5 64-bit",
   "language": "python",
   "name": "python3"
  },
  "language_info": {
   "codemirror_mode": {
    "name": "ipython",
    "version": 3
   },
   "file_extension": ".py",
   "mimetype": "text/x-python",
   "name": "python",
   "nbconvert_exporter": "python",
   "pygments_lexer": "ipython3",
   "version": "3.9.5"
  },
  "vscode": {
   "interpreter": {
    "hash": "aee8b7b246df8f9039afb4144a1f6fd8d2ca17a180786b69acc140d282b71a49"
   }
  }
 },
 "nbformat": 4,
 "nbformat_minor": 4
}
