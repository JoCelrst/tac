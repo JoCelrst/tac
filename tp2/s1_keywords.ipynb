{
 "cells": [
  {
   "cell_type": "markdown",
   "metadata": {},
   "source": [
    "# Extraction de Keywords pour l'année 1902"
   ]
  },
  {
   "cell_type": "markdown",
   "metadata": {},
   "source": [
    "## Imports"
   ]
  },
  {
   "cell_type": "code",
   "execution_count": 1,
   "metadata": {},
   "outputs": [],
   "source": [
    "import os\n",
    "import yake"
   ]
  },
  {
   "cell_type": "markdown",
   "metadata": {},
   "source": [
    "## Extraire les mots clés d'un document avec Yake"
   ]
  },
  {
   "cell_type": "code",
   "execution_count": 2,
   "metadata": {},
   "outputs": [
    {
     "data": {
      "text/plain": [
       "<yake.yake.KeywordExtractor at 0x7f820adb34c0>"
      ]
     },
     "execution_count": 2,
     "metadata": {},
     "output_type": "execute_result"
    }
   ],
   "source": [
    "# Instantier l'extracteur de mots clés\n",
    "kw_extractor = yake.KeywordExtractor(lan=\"fr\", top=50)\n",
    "kw_extractor"
   ]
  },
  {
   "cell_type": "code",
   "execution_count": 3,
   "metadata": {},
   "outputs": [],
   "source": [
    "# Lister les Fichiers\n",
    "data_path = \"../data/tmp/\"\n",
    "files = os.listdir(data_path)"
   ]
  },
  {
   "cell_type": "code",
   "execution_count": 4,
   "metadata": {},
   "outputs": [
    {
     "data": {
      "text/plain": [
       "18"
      ]
     },
     "execution_count": 4,
     "metadata": {},
     "output_type": "execute_result"
    }
   ],
   "source": [
    "# Imprimer le nombre de fichiers identifiés\n",
    "len(files)"
   ]
  },
  {
   "cell_type": "code",
   "execution_count": 5,
   "metadata": {},
   "outputs": [
    {
     "data": {
      "text/plain": [
       "['1912.txt',\n",
       " '1950_clean.txt',\n",
       " '1912_clean.txt',\n",
       " '1928.txt',\n",
       " '1961.png',\n",
       " '1902.txt',\n",
       " '1945_clean.txt',\n",
       " '1912.png',\n",
       " '1928.png',\n",
       " '1902.png',\n",
       " '1961.txt',\n",
       " '1950.txt',\n",
       " '1928_clean.txt',\n",
       " '1945.txt',\n",
       " '1961_clean.txt']"
      ]
     },
     "execution_count": 5,
     "metadata": {},
     "output_type": "execute_result"
    }
   ],
   "source": [
    "# Les dix premiers fichiers\n",
    "files[:15]"
   ]
  },
  {
   "cell_type": "code",
   "execution_count": 6,
   "metadata": {},
   "outputs": [
    {
     "data": {
      "text/plain": [
       "['1902.txt']"
      ]
     },
     "execution_count": 6,
     "metadata": {},
     "output_type": "execute_result"
    }
   ],
   "source": [
    "# Choisir un fichier\n",
    "this_file = files[5:6]\n",
    "this_file"
   ]
  },
  {
   "cell_type": "code",
   "execution_count": 9,
   "metadata": {},
   "outputs": [
    {
     "data": {
      "text/plain": [
       "', ..ne fois rentrés, la querellé s\\'envenima, èf,\" Jft coup, le mari, saisissant un couteau sur r ./ixnble de la cuisine, en plongea la lame. <ians Ta poitrine de sa femme. La malheureuse s’affaissa comme une masse. Sa blessure était mortelle, et c’est dans un état désespéré qu’elle a - été transportée à l’hôpital. — Forces vitales. Pilules Choain ; — Afin d\\'offrir dos étrennes fi sa clientèle, les Maisdns Vander Niepen, 9-11, rue du Pont de la Carpe, et 143, chausssée (lTxelleo, verniront samedi 4 janvier, pour un jour seulement, ragcùt 60 cent, le kilo, épaules 1 fr. 10, liasse rotes, 1 fi*. 30, gigot (coupé court), 1 fr. 80. Qu’on se lo dise : — Concerts artistiques, calorie du Commerce. Vendredi Martapoura; samedi, Pia /Corozzi; ■liamnclioMartapoiira et Dcmeigati.Entrée luicc. — Pour les frileux. Les personnes qui craignent lo froid sont légion ; aussi, apprendront-elles avec plaisir qu’un médecin viennois, le docteur flcrck, vient do découvrir le remède héroïque contre ce qu’il app'"
      ]
     },
     "execution_count": 9,
     "metadata": {},
     "output_type": "execute_result"
    }
   ],
   "source": [
    "# Récupérer le texte du fichier\n",
    "text = open(os.path.join(data_path, '1902.txt'), 'r', encoding='utf-8').read()\n",
    "text[:1000]"
   ]
  },
  {
   "cell_type": "code",
   "execution_count": 10,
   "metadata": {},
   "outputs": [
    {
     "data": {
      "text/plain": [
       "[('rue', 4.67227061081956e-06),\n",
       " ('Agence Rossel', 9.426416512079185e-06),\n",
       " ('rue Van', 1.444383101808865e-05),\n",
       " ('Bruxelles', 1.4789344427272824e-05),\n",
       " ('dem', 1.7287267726338382e-05),\n",
       " ('louer Jolie maison', 1.7405637771949097e-05),\n",
       " ('louer maison rue', 2.157383991860959e-05),\n",
       " ('rue Royale', 2.2580500817790295e-05),\n",
       " ('louer belle maison', 2.414584294261921e-05),\n",
       " ('louer', 3.431949437626573e-05),\n",
       " ('maison', 3.461898498445348e-05),\n",
       " ('rue Jules Van', 3.493736161450144e-05),\n",
       " ('rue Neuve', 4.010996911660979e-05),\n",
       " ('louer maison', 4.38231969791442e-05),\n",
       " ('rue van Artevelde', 4.858748328494893e-05),\n",
       " ('faire', 4.9131772610540345e-05),\n",
       " ('belle maison', 5.09326529188944e-05),\n",
       " ('BELLE MAISON rue', 5.105654661341861e-05),\n",
       " ('Rossel', 6.54652962336454e-05),\n",
       " ('d’une belle maison', 6.54776753697297e-05),\n",
       " ('ACHAT BON PRIX', 7.550268942409686e-05),\n",
       " ('Tne fille dem', 7.589364991904099e-05),\n",
       " ('ans', 8.15555634226728e-05),\n",
       " ('rue Van Helmont', 8.450871871884346e-05),\n",
       " ('S’adresser Agence Rossel', 8.916452724896462e-05),\n",
       " ('maison rue', 8.975966068428982e-05),\n",
       " ('prix', 9.195936130590133e-05),\n",
       " ('Nord', 9.419642159668797e-05),\n",
       " ('ruo', 9.922001473099583e-05),\n",
       " ('dem faire quart', 0.00010174042027912324),\n",
       " ('jour', 0.00010679166643477327),\n",
       " ('bon', 0.0001112199174872262),\n",
       " ('louer rue', 0.00011306417848255221),\n",
       " ('BRUXELLES Bruxelles', 0.00011514963844165106),\n",
       " ('Rue Neuve bon', 0.00011577603286553872),\n",
       " ('maison située rue', 0.00011885925974734816),\n",
       " ('fille', 0.00012097975535704072),\n",
       " ('c’est', 0.00012127752117465162),\n",
       " ('dem.', 0.000123153193587449),\n",
       " ('dem Jeune fille', 0.00012378705561096775),\n",
       " ('grand', 0.00012424944548083345),\n",
       " ('place', 0.00012433898213993631),\n",
       " ('LOUER Grand magasin', 0.00012503616094243874),\n",
       " ('demande', 0.0001283118932723531),\n",
       " ('Jours', 0.00013314730206130386),\n",
       " ('Tne fille', 0.00013467959267666793),\n",
       " ('dem Jne fille', 0.00013821178281673202),\n",
       " ('Architecte BRUXELLES Bruxelles', 0.00014015996726265932),\n",
       " ('rue Blaes BRUXELLES', 0.00014238288236566294),\n",
       " ('heures', 0.0001430390213956081)]"
      ]
     },
     "execution_count": 10,
     "metadata": {},
     "output_type": "execute_result"
    }
   ],
   "source": [
    "# Extraire les mots clés de ce texte\n",
    "keywords = kw_extractor.extract_keywords(text)\n",
    "keywords"
   ]
  },
  {
   "cell_type": "code",
   "execution_count": 11,
   "metadata": {},
   "outputs": [
    {
     "data": {
      "text/plain": [
       "['Agence Rossel',\n",
       " 'rue Van',\n",
       " 'rue Royale',\n",
       " 'rue Neuve',\n",
       " 'louer maison',\n",
       " 'belle maison',\n",
       " 'maison rue',\n",
       " 'louer rue',\n",
       " 'BRUXELLES Bruxelles',\n",
       " 'Tne fille']"
      ]
     },
     "execution_count": 11,
     "metadata": {},
     "output_type": "execute_result"
    }
   ],
   "source": [
    "# Ne garder que les bigrammes\n",
    "kept = []\n",
    "for kw, score in keywords:\n",
    "    words = kw.split()\n",
    "    if len(words) == 2:\n",
    "        kept.append(kw)\n",
    "kept"
   ]
  }
 ],
 "metadata": {
  "kernelspec": {
   "display_name": "Python 3.9.5 64-bit",
   "language": "python",
   "name": "python3"
  },
  "language_info": {
   "codemirror_mode": {
    "name": "ipython",
    "version": 3
   },
   "file_extension": ".py",
   "mimetype": "text/x-python",
   "name": "python",
   "nbconvert_exporter": "python",
   "pygments_lexer": "ipython3",
   "version": "3.9.5"
  },
  "vscode": {
   "interpreter": {
    "hash": "aee8b7b246df8f9039afb4144a1f6fd8d2ca17a180786b69acc140d282b71a49"
   }
  }
 },
 "nbformat": 4,
 "nbformat_minor": 4
}
