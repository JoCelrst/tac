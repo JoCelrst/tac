{
 "cells": [
  {
   "cell_type": "markdown",
   "metadata": {},
   "source": [
    "# Extraction de Keywords"
   ]
  },
  {
   "cell_type": "markdown",
   "metadata": {},
   "source": [
    "## Imports"
   ]
  },
  {
   "cell_type": "code",
   "execution_count": 1,
   "metadata": {},
   "outputs": [],
   "source": [
    "import os\n",
    "import yake"
   ]
  },
  {
   "cell_type": "markdown",
   "metadata": {},
   "source": [
    "## Extraire les mots clés d'un document avec Yake"
   ]
  },
  {
   "cell_type": "markdown",
   "metadata": {},
   "source": [
    "https://github.com/LIAAD/yake"
   ]
  },
  {
   "cell_type": "code",
   "execution_count": 2,
   "metadata": {},
   "outputs": [
    {
     "data": {
      "text/plain": [
       "<yake.yake.KeywordExtractor at 0x7ff722dc4070>"
      ]
     },
     "execution_count": 2,
     "metadata": {},
     "output_type": "execute_result"
    }
   ],
   "source": [
    "# Instantier l'extracteur de mots clés\n",
    "kw_extractor = yake.KeywordExtractor(lan=\"fr\", top=50)\n",
    "kw_extractor"
   ]
  },
  {
   "cell_type": "code",
   "execution_count": 3,
   "metadata": {},
   "outputs": [],
   "source": [
    "# Lister les Fichiers\n",
    "data_path = \"../data/tmp/\"\n",
    "files = os.listdir(data_path)"
   ]
  },
  {
   "cell_type": "code",
   "execution_count": 4,
   "metadata": {},
   "outputs": [
    {
     "data": {
      "text/plain": [
       "9"
      ]
     },
     "execution_count": 4,
     "metadata": {},
     "output_type": "execute_result"
    }
   ],
   "source": [
    "# Imprimer le nombre de fichiers identifiés\n",
    "len(files)"
   ]
  },
  {
   "cell_type": "code",
   "execution_count": 5,
   "metadata": {},
   "outputs": [
    {
     "data": {
      "text/plain": [
       "['1928.txt',\n",
       " '1961.png',\n",
       " '1945_clean.txt',\n",
       " '1928.png',\n",
       " '1961.txt',\n",
       " '1928_clean.txt',\n",
       " '1945.txt',\n",
       " '1961_clean.txt',\n",
       " '1945.png']"
      ]
     },
     "execution_count": 5,
     "metadata": {},
     "output_type": "execute_result"
    }
   ],
   "source": [
    "# Les dix premiers fichiers\n",
    "files[:10]"
   ]
  },
  {
   "cell_type": "code",
   "execution_count": 6,
   "metadata": {},
   "outputs": [
    {
     "data": {
      "text/plain": [
       "['1961.txt']"
      ]
     },
     "execution_count": 6,
     "metadata": {},
     "output_type": "execute_result"
    }
   ],
   "source": [
    "# Choisir un fichier\n",
    "this_file = files[4:5]\n",
    "this_file"
   ]
  },
  {
   "cell_type": "code",
   "execution_count": 8,
   "metadata": {},
   "outputs": [
    {
     "data": {
      "text/plain": [
       "'SAMEDI DECEMBRE SOM SORVNTITE CLINIQUE JFLSLLL SFTSRVSNTE INT MÉN URKCNT TÉLÉPHONE IMG INLLÊRE OCNVNL EXTERNE TIN MEDECIN CONCIERGE CNLI MÉDTC VEUVE PENSIONNÉE MÉN ENF MNRL DCH MÉN FIONIL TNC ËSL DENT EXPOSITION BRUXEL TÉLÉPH MNTLN JEUNE FILLE NMIV TEL BHODE RFNM OCCUPER RÉFÉR TÉLÉPH SNINT GONÈSE TTANIIF OULL CENTRE MAI INES RRILNE FEMME FAMILLE OCCUP IIIMIE ANS TRÈS APPOINT JOUR PNR SEMAINE PRÉF BILINGUE IILRLBUTLON CONDUIRE ÉCOLE PROME TOILETTE SERVANTE CUISINIÈRE MIILTLON MNLSON TRAIN IDR MAU'"
      ]
     },
     "execution_count": 8,
     "metadata": {},
     "output_type": "execute_result"
    }
   ],
   "source": [
    "# Récupérer le texte du fichier\n",
    "text = open(os.path.join(data_path, '1961_clean.txt'), 'r', encoding='utf-8').read()\n",
    "text[:500]"
   ]
  },
  {
   "cell_type": "code",
   "execution_count": 9,
   "metadata": {},
   "outputs": [
    {
     "data": {
      "text/plain": [
       "[('BRUX BRUX BRUX', 8.343350965210524e-11),\n",
       " ('ANVERS ANVERS ANVERS', 8.862997537901112e-11),\n",
       " ('LIÈGE LIÈGE LIÈGE', 3.8749249877392383e-10),\n",
       " ('RUE CONSEIL TÉL', 8.035064981879394e-10),\n",
       " ('ECRIRE AGENCE NUMÉRO', 9.39838161276551e-10),\n",
       " ('ANS ECRIRE AGENCE', 1.0696443236966839e-09),\n",
       " ('RUE ROYALE BRUXELLES', 1.0791901246080238e-09),\n",
       " ('BRUXELLES ECRIRE AGENCE', 1.0945569946832992e-09),\n",
       " ('TÉL HEURES APP', 1.1684158839279228e-09),\n",
       " ('GAND GAND GAND', 1.2534811318915997e-09),\n",
       " ('BRUX BRUX MAR', 1.3908400556173638e-09),\n",
       " ('SERVICE PERSONNEL RUE', 1.4097046285581075e-09),\n",
       " ('SEMAINE JOURS ECRIRE', 1.5290301239251e-09),\n",
       " ('SEMAINE ECRIRE AGENCE', 1.5297542449028849e-09),\n",
       " ('APP MOD CONF', 1.6981817406105492e-09),\n",
       " ('BON ÉTAT TÉL', 1.7971288354087065e-09),\n",
       " ('COL COL COL', 1.7987368582683162e-09),\n",
       " ('BRUXELLES DEMANDE BONNE', 1.8421866923494272e-09),\n",
       " ('VIS TÉL HEURES', 1.852158544569242e-09),\n",
       " ('TÉL BRUXELLES RUE', 1.876163709452545e-09),\n",
       " ('RUE BRUXELLES TÉL', 1.876163709452545e-09),\n",
       " ('ECRIRE AGENCE NUM', 1.9244190424079378e-09),\n",
       " ('PRIX VENTE PRIX', 1.936255210320652e-09),\n",
       " ('ANVERS TÉL ANVERS', 1.941376297588738e-09),\n",
       " ('CRÉDIT ANVERS BRUXELLES', 1.9498877382113543e-09),\n",
       " ('GAND LIÈGE LIÈGE', 2.0186527638921637e-09),\n",
       " ('BRUX TÉL SOIR', 2.019668469004571e-09),\n",
       " ('MOD TÉL APP', 2.03143801780903e-09),\n",
       " ('APP MOD TÉL', 2.03143801780903e-09),\n",
       " ('MILLIONS FRANCS BELGES', 2.133271116517584e-09),\n",
       " ('BRUXELLES MIDI TÉL', 2.1469520859466648e-09),\n",
       " ('SOIR DIMANCHE LUNDI', 2.1658807888021812e-09),\n",
       " ('ANS HABITANT RUE', 2.1704037687607787e-09),\n",
       " ('TÉL APP RUE', 2.2338996211235246e-09),\n",
       " ('RUE NEUVE BRUXELLES', 2.304513003044587e-09),\n",
       " ('FRANCS SUISSES FRANCS', 2.431617728902281e-09),\n",
       " ('RUE LOI BRUXELLES', 2.5079577432496543e-09),\n",
       " ('TÉL BEL APP', 2.5124215600479167e-09),\n",
       " ('MIDI MUSIQUE BON', 2.5150386616201017e-09),\n",
       " ('EMP EMP EMP', 2.5341382112125266e-09),\n",
       " ('AMÉRICAINE BRUXELLES TÉL', 2.5667768769113347e-09),\n",
       " ('PLACE LOUVAIN BRUXELLES', 2.6029329673267884e-09),\n",
       " ('TÉL RUE BON', 2.6781886857689922e-09),\n",
       " ('ANVERS BRUXELLES COMM', 2.7292040716817634e-09),\n",
       " ('BON ÉTAT RUE', 2.7546753546787573e-09),\n",
       " ('BRUXELLES ANVERS TÉL', 2.766020220120095e-09),\n",
       " ('TÉL SOIR TÉL', 2.7784751296335227e-09),\n",
       " ('BRUXELLES TÉL BONS', 2.8128174862504283e-09),\n",
       " ('BRUXELLES BANQUE SOCIÉTÉ', 2.8274675878528382e-09),\n",
       " ('APP CONF MOD', 2.8303029010175816e-09)]"
      ]
     },
     "execution_count": 9,
     "metadata": {},
     "output_type": "execute_result"
    }
   ],
   "source": [
    "# Extraire les mots clés de ce texte\n",
    "keywords = kw_extractor.extract_keywords(text)\n",
    "keywords"
   ]
  },
  {
   "cell_type": "code",
   "execution_count": 10,
   "metadata": {},
   "outputs": [
    {
     "data": {
      "text/plain": [
       "[]"
      ]
     },
     "execution_count": 10,
     "metadata": {},
     "output_type": "execute_result"
    }
   ],
   "source": [
    "# Ne garder que les bigrammes\n",
    "kept = []\n",
    "for kw, score in keywords:\n",
    "    words = kw.split()\n",
    "    if len(words) == 2:\n",
    "        kept.append(kw)\n",
    "kept"
   ]
  }
 ],
 "metadata": {
  "kernelspec": {
   "display_name": "Python 3.9.5 64-bit",
   "language": "python",
   "name": "python3"
  },
  "language_info": {
   "codemirror_mode": {
    "name": "ipython",
    "version": 3
   },
   "file_extension": ".py",
   "mimetype": "text/x-python",
   "name": "python",
   "nbconvert_exporter": "python",
   "pygments_lexer": "ipython3",
   "version": "3.9.5"
  },
  "vscode": {
   "interpreter": {
    "hash": "aee8b7b246df8f9039afb4144a1f6fd8d2ca17a180786b69acc140d282b71a49"
   }
  }
 },
 "nbformat": 4,
 "nbformat_minor": 4
}
