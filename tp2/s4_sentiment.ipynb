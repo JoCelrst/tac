{
 "cells": [
  {
   "cell_type": "markdown",
   "metadata": {},
   "source": [
    "# Sentiment analysis avec Textblob-FR (1902)"
   ]
  },
  {
   "cell_type": "markdown",
   "metadata": {},
   "source": [
    "Documentation: https://textblob.readthedocs.io/en/dev/"
   ]
  },
  {
   "cell_type": "markdown",
   "metadata": {},
   "source": [
    "## Imports"
   ]
  },
  {
   "cell_type": "code",
   "execution_count": 3,
   "metadata": {},
   "outputs": [],
   "source": [
    "import sys\n",
    "from textblob import Blobber\n",
    "from textblob_fr import PatternTagger, PatternAnalyzer"
   ]
  },
  {
   "cell_type": "markdown",
   "metadata": {},
   "source": [
    "## Fonction"
   ]
  },
  {
   "cell_type": "code",
   "execution_count": 4,
   "metadata": {},
   "outputs": [],
   "source": [
    "tb = Blobber(pos_tagger=PatternTagger(), analyzer=PatternAnalyzer())\n",
    "\n",
    "def get_sentiment(input_text):\n",
    "    blob = tb(input_text)\n",
    "    polarity, subjectivity = blob.sentiment\n",
    "    polarity_perc = f\"{100*abs(polarity):.0f}\"\n",
    "    subjectivity_perc = f\"{100*subjectivity:.0f}\"\n",
    "    if polarity > 0:\n",
    "        polarity_str = f\"{polarity_perc}% positive\"\n",
    "    elif polarity < 0:\n",
    "        polarity_str = f\"{polarity_perc}% negative\"\n",
    "    else:\n",
    "        polarity_str = \"neutral\"\n",
    "    if subjectivity > 0:\n",
    "        subjectivity_str = f\"{subjectivity}% subjective\"\n",
    "    else:\n",
    "        subjectivity_str = \"perfectly objective\"\n",
    "    print(f\"This text is {polarity_str} and {subjectivity_str}.\")"
   ]
  },
  {
   "cell_type": "markdown",
   "metadata": {},
   "source": [
    "## Analyser le sentiment de 10 phrases pour l'année 1902"
   ]
  },
  {
   "cell_type": "code",
   "execution_count": 5,
   "metadata": {
    "tags": []
   },
   "outputs": [
    {
     "name": "stdout",
     "output_type": "stream",
     "text": [
      "This text is neutral and perfectly objective.\n"
     ]
    }
   ],
   "source": [
    "# Phrase 1\n",
    "get_sentiment(\"Berlin, 2 janvier : Un ouvrier horloger de cette ville, nomme 'PJess, a assassiné hier, à coups de revolver, sa femme et ses trois enfants.\")"
   ]
  },
  {
   "cell_type": "code",
   "execution_count": 11,
   "metadata": {
    "tags": []
   },
   "outputs": [
    {
     "name": "stdout",
     "output_type": "stream",
     "text": [
      "This text is 35% positive and 0.575% subjective.\n"
     ]
    }
   ],
   "source": [
    "# Phrase 2\n",
    "get_sentiment(\"A la fin, la Ligue a été victorieuse, les obscurantistes ont dû capituler.\")"
   ]
  },
  {
   "cell_type": "code",
   "execution_count": 14,
   "metadata": {},
   "outputs": [
    {
     "name": "stdout",
     "output_type": "stream",
     "text": [
      "This text is 9% negative and 0.32% subjective.\n"
     ]
    }
   ],
   "source": [
    "# Phrase 3\n",
    "get_sentiment(\"H suffit d’avoir fait un peu de météorologie pratique pour savoir combien les prévisions météorologistes précises et basées sur des observations sont difficiles à faire, pour ne pas dire Impossibles.\")"
   ]
  },
  {
   "cell_type": "code",
   "execution_count": 12,
   "metadata": {},
   "outputs": [
    {
     "name": "stdout",
     "output_type": "stream",
     "text": [
      "This text is neutral and perfectly objective.\n"
     ]
    }
   ],
   "source": [
    "# Phrase 4\n",
    "get_sentiment(\"Après le défilé, le Roi et la Reine se sont mis au balcon et ont assisté au départ des troupes.\")"
   ]
  },
  {
   "cell_type": "code",
   "execution_count": 13,
   "metadata": {},
   "outputs": [
    {
     "name": "stdout",
     "output_type": "stream",
     "text": [
      "This text is 22% positive and 0.1% subjective.\n"
     ]
    }
   ],
   "source": [
    "# Phrase 5\n",
    "get_sentiment(\"La foule, sur tout le parcours du palais à la gare de Victoria, a acclamé chaleureusement les troupes.\")"
   ]
  },
  {
   "cell_type": "code",
   "execution_count": 15,
   "metadata": {},
   "outputs": [
    {
     "name": "stdout",
     "output_type": "stream",
     "text": [
      "This text is 20% positive and 0.4000000000000001% subjective.\n"
     ]
    }
   ],
   "source": [
    "# Phrase 6\n",
    "get_sentiment(\"L— Oh ! ma chère femme!... Non, je suis heureux, tu le sais, parce que je vais revoir l'Empereur, et parce què je-vais le -ramener- en France, où on l’attend»! \")"
   ]
  },
  {
   "cell_type": "code",
   "execution_count": 16,
   "metadata": {},
   "outputs": [
    {
     "name": "stdout",
     "output_type": "stream",
     "text": [
      "This text is 80% negative and 0.8% subjective.\n"
     ]
    }
   ],
   "source": [
    "# Phrase 7\n",
    "get_sentiment(\"Affreuse mort d'un enfant.\")"
   ]
  },
  {
   "cell_type": "code",
   "execution_count": 18,
   "metadata": {},
   "outputs": [
    {
     "name": "stdout",
     "output_type": "stream",
     "text": [
      "This text is 15% negative and 0.35% subjective.\n"
     ]
    }
   ],
   "source": [
    "# Phrase 8\n",
    "get_sentiment(\"Deux ouvriers travaillaient sur une plateforme roulante, lorsque celle-ci bascula,' précipitant les malheureux dans le yide.\")"
   ]
  },
  {
   "cell_type": "code",
   "execution_count": 8,
   "metadata": {},
   "outputs": [
    {
     "name": "stdout",
     "output_type": "stream",
     "text": [
      "This text is 5% negative and 0.4% subjective.\n"
     ]
    }
   ],
   "source": [
    "# Phrase 9\n",
    "get_sentiment(\"La transfusion, au contraire, est mortelle entre animaux qui ne font pas partie de la même famille, le chat et la souris par exemple.\")"
   ]
  },
  {
   "cell_type": "code",
   "execution_count": 7,
   "metadata": {},
   "outputs": [
    {
     "name": "stdout",
     "output_type": "stream",
     "text": [
      "This text is 9% positive and 0.19999999999999998% subjective.\n"
     ]
    }
   ],
   "source": [
    "# Phrase 10\n",
    "get_sentiment(\"On sait que des expériences de transfusion du sang ont prouvé la possibilité d'échanger sans dommage leur sang entre deux animaux d'espèce voisine commune, Comme le rat ét la souris.\")"
   ]
  }
 ],
 "metadata": {
  "kernelspec": {
   "display_name": "Python 3.9.5 64-bit",
   "language": "python",
   "name": "python3"
  },
  "language_info": {
   "codemirror_mode": {
    "name": "ipython",
    "version": 3
   },
   "file_extension": ".py",
   "mimetype": "text/x-python",
   "name": "python",
   "nbconvert_exporter": "python",
   "pygments_lexer": "ipython3",
   "version": "3.9.5"
  },
  "vscode": {
   "interpreter": {
    "hash": "aee8b7b246df8f9039afb4144a1f6fd8d2ca17a180786b69acc140d282b71a49"
   }
  }
 },
 "nbformat": 4,
 "nbformat_minor": 4
}
