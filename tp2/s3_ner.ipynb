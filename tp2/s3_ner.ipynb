{
 "cells": [
  {
   "cell_type": "markdown",
   "metadata": {},
   "source": [
    "# Reconnaissance d'entités nommées avec SpaCy"
   ]
  },
  {
   "cell_type": "markdown",
   "metadata": {},
   "source": [
    "## Imports"
   ]
  },
  {
   "cell_type": "code",
   "execution_count": 6,
   "metadata": {},
   "outputs": [],
   "source": [
    "from collections import defaultdict\n",
    "import sys\n",
    "import spacy\n",
    "from spacy.lang.fr.examples import sentences"
   ]
  },
  {
   "cell_type": "code",
   "execution_count": 7,
   "metadata": {},
   "outputs": [],
   "source": [
    "nlp = spacy.load('fr_core_news_md')"
   ]
  },
  {
   "cell_type": "markdown",
   "metadata": {},
   "source": [
    "## Appliquer la reconnaissance d'entités nommées sur le corpus de 1902\n"
   ]
  },
  {
   "cell_type": "code",
   "execution_count": 8,
   "metadata": {},
   "outputs": [],
   "source": [
    "# Charger le texte\n",
    "n=100000\n",
    "text = open(\"../data/tmp/1902.txt\", encoding='utf-8').read()[:n]"
   ]
  },
  {
   "cell_type": "code",
   "execution_count": 9,
   "metadata": {},
   "outputs": [
    {
     "name": "stdout",
     "output_type": "stream",
     "text": [
      "CPU times: user 8.88 s, sys: 595 ms, total: 9.48 s\n",
      "Wall time: 10.3 s\n"
     ]
    }
   ],
   "source": [
    "%%time\n",
    "# Traiter le texte\n",
    "\n",
    "doc = nlp(text)"
   ]
  },
  {
   "cell_type": "code",
   "execution_count": 10,
   "metadata": {},
   "outputs": [],
   "source": [
    "# Compter les entités\n",
    "import collections\n",
    "d = collections.defaultdict(int)"
   ]
  },
  {
   "cell_type": "code",
   "execution_count": 12,
   "metadata": {},
   "outputs": [],
   "source": [
    "#trouver des personnes \n",
    "people = defaultdict(int)\n",
    "for ent in doc.ents:\n",
    "    if ent.label_ == \"PER\" and len(ent.text) > 3:\n",
    "        people[ent.text] += 1"
   ]
  },
  {
   "cell_type": "code",
   "execution_count": 13,
   "metadata": {},
   "outputs": [
    {
     "name": "stdout",
     "output_type": "stream",
     "text": [
      "Jacques apparait 7 fois dans le corpus\n",
      "Goldoni apparait 4 fois dans le corpus\n",
      "Louis XV apparait 3 fois dans le corpus\n",
      "Herck apparait 2 fois dans le corpus\n",
      "Louis XVI apparait 2 fois dans le corpus\n",
      "b. réf apparait 2 fois dans le corpus\n",
      "lalre apparait 2 fois dans le corpus\n",
      "Agence Rossel apparait 2 fois dans le corpus\n",
      "Rossel apparait 2 fois dans le corpus\n",
      "b. cert apparait 2 fois dans le corpus\n",
      "Pilules Choain apparait 1 fois dans le corpus\n",
      "Maisdns Vander apparait 1 fois dans le corpus\n",
      "Oteîs apparait 1 fois dans le corpus\n",
      "Florentine Lorimier apparait 1 fois dans le corpus\n",
      "^passants apparait 1 fois dans le corpus\n",
      "Lugubre apparait 1 fois dans le corpus\n",
      "Kreut- apparait 1 fois dans le corpus\n",
      "l'Alexandre apparait 1 fois dans le corpus\n",
      "Horrible apparait 1 fois dans le corpus\n",
      "M. Friedenthal apparait 1 fois dans le corpus\n",
      "anthropoïdes apparait 1 fois dans le corpus\n",
      "Le Blcllcric, escalada apparait 1 fois dans le corpus\n",
      "el licre apparait 1 fois dans le corpus\n",
      "eotame apparait 1 fois dans le corpus\n",
      "céla apparait 1 fois dans le corpus\n",
      "Jacques Barthélemy apparait 1 fois dans le corpus\n",
      "Thérèse Franccschi apparait 1 fois dans le corpus\n",
      "Agée apparait 1 fois dans le corpus\n",
      "Jambes apparait 1 fois dans le corpus\n",
      "Jailli apparait 1 fois dans le corpus\n",
      "Paul Roth apparait 1 fois dans le corpus\n",
      "Joseph apparait 1 fois dans le corpus\n",
      "Prends apparait 1 fois dans le corpus\n",
      "Jacques I Jacques apparait 1 fois dans le corpus\n",
      "M. Jacques apparait 1 fois dans le corpus\n",
      "Alexandre apparait 1 fois dans le corpus\n",
      "tnère apparait 1 fois dans le corpus\n",
      "Alexandre Knrr apparait 1 fois dans le corpus\n",
      "Inconnus apparait 1 fois dans le corpus\n",
      "Souvenu apparait 1 fois dans le corpus\n",
      "Température apparait 1 fois dans le corpus\n",
      "Jugement Charlcroi apparait 1 fois dans le corpus\n",
      "Joli apparait 1 fois dans le corpus\n",
      "hein apparait 1 fois dans le corpus\n",
      "Irop apparait 1 fois dans le corpus\n",
      "hu- manité apparait 1 fois dans le corpus\n",
      "hé- rilcnt apparait 1 fois dans le corpus\n",
      "Réparation apparait 1 fois dans le corpus\n",
      "Jacques so apparait 1 fois dans le corpus\n",
      "tessse apparait 1 fois dans le corpus\n"
     ]
    }
   ],
   "source": [
    "# Trier et imprimer\n",
    "\n",
    "sorted_people = sorted(people.items(), key=lambda kv: kv[1], reverse=True)\n",
    "\n",
    "for people, freq in sorted_people[:50]:\n",
    "    print(f\"{people} apparait {freq} fois dans le corpus\")"
   ]
  },
  {
   "cell_type": "code",
   "execution_count": 14,
   "metadata": {},
   "outputs": [],
   "source": [
    "#trouver des lieux \n",
    "location = defaultdict(int)\n",
    "for ent in doc.ents:\n",
    "    if ent.label_ == \"LOC\" and len(ent.text) > 3:\n",
    "        location[ent.text] += 1"
   ]
  },
  {
   "cell_type": "code",
   "execution_count": 15,
   "metadata": {},
   "outputs": [
    {
     "name": "stdout",
     "output_type": "stream",
     "text": [
      "Bruxelles apparait 22 fois dans le corpus\n",
      "Nord apparait 7 fois dans le corpus\n",
      "Centre apparait 6 fois dans le corpus\n",
      "Anvers apparait 5 fois dans le corpus\n",
      "Bourse apparait 4 fois dans le corpus\n",
      "Belgique apparait 4 fois dans le corpus\n",
      "Brux apparait 4 fois dans le corpus\n",
      "rue Royale apparait 4 fois dans le corpus\n",
      "Paris apparait 3 fois dans le corpus\n",
      "Angleterre apparait 3 fois dans le corpus\n",
      "gare Nord apparait 3 fois dans le corpus\n",
      "rue Neuve apparait 3 fois dans le corpus\n",
      "rue du Progrès apparait 3 fois dans le corpus\n",
      "Liège apparait 3 fois dans le corpus\n",
      "Mons apparait 2 fois dans le corpus\n",
      "Irlande apparait 2 fois dans le corpus\n",
      "Prusse apparait 2 fois dans le corpus\n",
      "Louvain apparait 2 fois dans le corpus\n",
      "Préeey apparait 2 fois dans le corpus\n",
      "Outre-Manche apparait 2 fois dans le corpus\n",
      "bétels apparait 2 fois dans le corpus\n",
      "Bordeaux apparait 2 fois dans le corpus\n",
      "chamb apparait 2 fois dans le corpus\n",
      "Midi apparait 2 fois dans le corpus\n",
      "Uossel apparait 2 fois dans le corpus\n",
      "Gand apparait 2 fois dans le corpus\n",
      "Station apparait 2 fois dans le corpus\n",
      "avenue des Courses apparait 2 fois dans le corpus\n",
      "Institut apparait 2 fois dans le corpus\n",
      "rue du Pont de la Carpe apparait 1 fois dans le corpus\n",
      "Concerts apparait 1 fois dans le corpus\n",
      "Ofaee apparait 1 fois dans le corpus\n",
      "Bâtiment apparait 1 fois dans le corpus\n",
      "rue de Cliâteaudun apparait 1 fois dans le corpus\n",
      "LÏ\":;ïiour apparait 1 fois dans le corpus\n",
      "France apparait 1 fois dans le corpus\n",
      "Assassinai apparait 1 fois dans le corpus\n",
      "Villc-Pom- apparait 1 fois dans le corpus\n",
      "Ville-Pommerœul, Agé apparait 1 fois dans le corpus\n",
      "Tournai apparait 1 fois dans le corpus\n",
      "Vervlers apparait 1 fois dans le corpus\n",
      "Hom- apparait 1 fois dans le corpus\n",
      "Jamais apparait 1 fois dans le corpus\n",
      "Pise apparait 1 fois dans le corpus\n",
      "Berlin apparait 1 fois dans le corpus\n",
      "Ixellcs apparait 1 fois dans le corpus\n",
      "Saint-Etienne apparait 1 fois dans le corpus\n",
      "transiusion apparait 1 fois dans le corpus\n",
      "Amérique apparait 1 fois dans le corpus\n",
      "pôle Sud apparait 1 fois dans le corpus\n"
     ]
    }
   ],
   "source": [
    "# Trier et imprimer\n",
    "\n",
    "sorted_location = sorted(location.items(), key=lambda kv: kv[1], reverse=True)\n",
    "\n",
    "for location, freq in sorted_location[:50]:\n",
    "    print(f\"{location} apparait {freq} fois dans le corpus\")"
   ]
  },
  {
   "cell_type": "code",
   "execution_count": 16,
   "metadata": {},
   "outputs": [],
   "source": [
    "#trouver des organisations \n",
    "organisations = defaultdict(int)\n",
    "for ent in doc.ents:\n",
    "    if ent.label_ == \"ORG\" and len(ent.text) > 3:\n",
    "        organisations[ent.text] += 1"
   ]
  },
  {
   "cell_type": "code",
   "execution_count": 17,
   "metadata": {},
   "outputs": [
    {
     "name": "stdout",
     "output_type": "stream",
     "text": [
      "Société apparait 3 fois dans le corpus\n",
      "UNIQUES apparait 2 fois dans le corpus\n",
      "COIFFEUR apparait 2 fois dans le corpus\n",
      "Progrès apparait 2 fois dans le corpus\n",
      "Forces vitales apparait 1 fois dans le corpus\n",
      "Banquier apparait 1 fois dans le corpus\n",
      "Banque de prêts et d escompte apparait 1 fois dans le corpus\n",
      "PJess apparait 1 fois dans le corpus\n",
      "Condor apparait 1 fois dans le corpus\n",
      "Chesapcake.à Ohio apparait 1 fois dans le corpus\n",
      "PI Amstérdam apparait 1 fois dans le corpus\n",
      "II.ne apparait 1 fois dans le corpus\n",
      "Paît Mail apparait 1 fois dans le corpus\n",
      "Voisine apparait 1 fois dans le corpus\n",
      "Hausse apparait 1 fois dans le corpus\n",
      "le Soir apparait 1 fois dans le corpus\n",
      "maltcur apparait 1 fois dans le corpus\n",
      "antialcoolismc ! apparait 1 fois dans le corpus\n",
      "Ligue pour la Défense de la Liberté apparait 1 fois dans le corpus\n",
      "Sénat apparait 1 fois dans le corpus\n",
      "BSOLUMEST UNIQUES BSOUH0ENT apparait 1 fois dans le corpus\n",
      "Manufacture générale de GLACES ARGENTÉES apparait 1 fois dans le corpus\n",
      "Système apparait 1 fois dans le corpus\n",
      "DeolercK apparait 1 fois dans le corpus\n",
      "S5- Z7 apparait 1 fois dans le corpus\n",
      "FABRIQUEdoMEUBLES RICHES apparait 1 fois dans le corpus\n",
      "STYLEot AUTRES apparait 1 fois dans le corpus\n",
      "Spl’-rnUm apparait 1 fois dans le corpus\n",
      "A couchor apparait 1 fois dans le corpus\n",
      "BeUogamlturo.8ttCun^e apparait 1 fois dans le corpus\n",
      "Rlchcgum.chemlnéeculvremasslt apparait 1 fois dans le corpus\n",
      "GU Edison apparait 1 fois dans le corpus\n",
      "Laboratoire pharmaceutique de la apparait 1 fois dans le corpus\n",
      "GRANDE TR AP apparait 1 fois dans le corpus\n",
      "Fonderie apparait 1 fois dans le corpus\n",
      "IMEBRKT apparait 1 fois dans le corpus\n",
      "sSssrf^g apparait 1 fois dans le corpus\n",
      "r.visltiuidfiics L apparait 1 fois dans le corpus\n",
      "Iloa apparait 1 fois dans le corpus\n",
      "Croix de fer apparait 1 fois dans le corpus\n",
      "Inst apparait 1 fois dans le corpus\n",
      "St-Josse.le apparait 1 fois dans le corpus\n",
      "Drapiers apparait 1 fois dans le corpus\n",
      "Nedwiandere in Balgië apparait 1 fois dans le corpus\n",
      "A l'Office des Proprietaires apparait 1 fois dans le corpus\n",
      "Arhre apparait 1 fois dans le corpus\n",
      "Agence Kosscl apparait 1 fois dans le corpus\n",
      "Fnlro of apparait 1 fois dans le corpus\n",
      "JT uno iiorsonno apparait 1 fois dans le corpus\n",
      "A.V. ivio dem. apparait 1 fois dans le corpus\n"
     ]
    }
   ],
   "source": [
    "# Trier et imprimer\n",
    "\n",
    "sorted_organisations = sorted(organisations.items(), key=lambda kv: kv[1], reverse=True)\n",
    "\n",
    "for organisations, freq in sorted_organisations[:50]:\n",
    "    print(f\"{organisations} apparait {freq} fois dans le corpus\")"
   ]
  }
 ],
 "metadata": {
  "kernelspec": {
   "display_name": "Python 3.9.5 64-bit",
   "language": "python",
   "name": "python3"
  },
  "language_info": {
   "codemirror_mode": {
    "name": "ipython",
    "version": 3
   },
   "file_extension": ".py",
   "mimetype": "text/x-python",
   "name": "python",
   "nbconvert_exporter": "python",
   "pygments_lexer": "ipython3",
   "version": "3.9.5"
  },
  "vscode": {
   "interpreter": {
    "hash": "aee8b7b246df8f9039afb4144a1f6fd8d2ca17a180786b69acc140d282b71a49"
   }
  }
 },
 "nbformat": 4,
 "nbformat_minor": 4
}
